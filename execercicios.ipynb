{
 "cells": [
  {
   "cell_type": "markdown",
   "id": "bdab8a71-348d-4b42-a768-287746ecf372",
   "metadata": {},
   "source": [
    "### Exercício 001\n",
    "print(\"Estou aprendendo Python!\")"
   ]
  },
  {
   "cell_type": "markdown",
   "id": "b012be70-c1de-497e-9fba-06fb021eccf9",
   "metadata": {},
   "source": [
    "### Exercício 002\n",
    "numero = input(\"Digite um número: \") <br>\n",
    "print(f\"O número digitado foi {numero}\")"
   ]
  },
  {
   "cell_type": "markdown",
   "id": "280c9088-d7ed-41f3-af6b-a14dbf1c0b2e",
   "metadata": {},
   "source": [
    "### Exercício 003\n",
    "nome = input(\"Digite seu nome: \") <br>\n",
    "print(f\"Olá, {nome}!\")"
   ]
  },
  {
   "cell_type": "markdown",
   "id": "57df84f2-7acc-4a62-aca2-f12106ddea2a",
   "metadata": {},
   "source": [
    "### Exercício 004\n",
    "inteiro = 10 <br>\n",
    "decimal = 5.5 <br>\n",
    "soma = inteiro + decimal <br>\n",
    "subtracao = inteiro - decimal <br>\n",
    "print(f\"O valor da soma é: {soma}\") <br>\n",
    "print(f\"O valor da subtração é: {subtracao}\")"
   ]
  },
  {
   "cell_type": "markdown",
   "id": "25149b32-cbc7-4b29-bad3-5bbaaf673522",
   "metadata": {},
   "source": [
    "### Exercício 005\n",
    "idade = int(input(\"Digite sua idade: \")) <br>\n",
    "print(f\"Sua idade daqui a 10 anos será: {idade + 10}\")"
   ]
  },
  {
   "cell_type": "markdown",
   "id": "9187e323-939c-42f5-a8ae-afcae15e044d",
   "metadata": {},
   "source": [
    "### Exercício 006\n",
    "algo = input(\"Digite algo: \") <br>\n",
    "print(f\"O tipo de {algo} é {type(algo)}\") <br>\n",
    "print(f\"É numérico? {algo.isnumeric()}\") <br>\n",
    "print(f\"É alfabético? {algo.isalpha()}\") <br>\n",
    "print(f\"É alfanumérico? {algo.isalnum()}\")"
   ]
  },
  {
   "cell_type": "markdown",
   "id": "2d1af205-5edb-4d9d-8470-42c97e7a25db",
   "metadata": {},
   "source": [
    "### Exercício 007\n",
    "algo = input(\"Digite algo: \") <br>\n",
    "print(bool(algo))"
   ]
  },
  {
   "cell_type": "markdown",
   "id": "4b91f3af-73bf-4696-aaa8-33afba62e2e1",
   "metadata": {},
   "source": [
    "### Exercício 008\n",
    "nome = input(\"Digite o nome do funcionário: \") <br>\n",
    "idade = int(input(\"Digite a idade do funcionário: \")) <br>\n",
    "salario = float(input(\"Digite o salário do funcionário: R\")) <br>\n",
    "salario_novo = salario + 800.90 <br>\n",
    "print(f\"O funcionário {nome}, daqui a 1 ano, terá {idade + 1} anos, recebendo um salário igual a R${salario_novo:.2f}.\")"
   ]
  },
  {
   "cell_type": "markdown",
   "id": "d199d28e-6f72-4fc9-8caf-8d06833f102a",
   "metadata": {},
   "source": [
    "### Exercício 009\n",
    "\n",
    "num1 = float(input('Digite um numero: '))\n",
    "num2 = float(input('Digite um numero: '))\n",
    "\n",
    "print(f'A soma de {num1}+{num2} = {num1+num2:.2f}')\n",
    "print(f'A subtração de {num1}-{num2} = {num1-num2:.2f}')\n",
    "print(f'A multiplicação de {num1}x{num2} = {num1*num2:.2f}')\n",
    "print(f'A divisão de {num1}/{num2} = {num1/num2:.2f}')\n"
   ]
  },
  {
   "cell_type": "markdown",
   "id": "82086c38-fcb9-40b2-88fe-525a4e869a98",
   "metadata": {},
   "source": [
    "### Exercício 10\n",
    "raio = int(input('Qual é raio? ')) <br>\n",
    "print(f'Área do círculo: {3.14*raio**2:.2f}') <br>\n",
    "print(f'Perímetro do círculo: {2*3.14*raio:.2f}')"
   ]
  },
  {
   "cell_type": "markdown",
   "id": "4cb81540-f946-4d16-a207-ce89ac16a391",
   "metadata": {},
   "source": [
    "11. Faça um programa que peça ao usuário o preço de um produto e exiba o preço com um desconto de 10%."
   ]
  },
  {
   "cell_type": "markdown",
   "id": "a4177c0a-5436-4bfe-8a9e-30c52fd6469a",
   "metadata": {},
   "source": [
    "### Exercício 011\n",
    "\n",
    "produto = int(input('Preço: R$ ')) <br>\n",
    "print(f'Novo preço = {produto*0.9:.2f}')"
   ]
  },
  {
   "cell_type": "markdown",
   "id": "02d499ca-4240-4f44-8c39-26bff8fea00b",
   "metadata": {},
   "source": [
    "12. Faça um programa que leia a temperatura em graus Celsius e exiba a temperatura em graus Fahrenheit. A fórmula para converter de Celsius para Fahrenheit é: F = (9/5)*C + 32."
   ]
  },
  {
   "cell_type": "markdown",
   "id": "e06e5045-9ab9-45fc-8f88-58955cfba1e2",
   "metadata": {},
   "source": [
    "### Exercício 012\n",
    "\n",
    "celsius = int(input('Qual é a temperatura? ')) <br>\n",
    "f = (9/5)*celsius + 32 <br>\n",
    "print(f'A temperatura em Fahrenheit é {(9/5)*celsius + 32}') "
   ]
  },
  {
   "cell_type": "markdown",
   "id": "3c093fbe-e224-4630-882c-85af65f51a3b",
   "metadata": {},
   "source": [
    "13. Faça um programa que peça ao usuário para digitar 3 números inteiros e exiba a média aritmética desses números. Aproxime para 1 casa decimal."
   ]
  },
  {
   "cell_type": "markdown",
   "id": "a969cf10-72a5-42c8-8cbd-757c864e675a",
   "metadata": {},
   "source": [
    "### Exercício 013\n",
    "\n",
    "num1 = int(input('Digite um número: ')) <br>\n",
    "num2 = int(input('Digite um número: ')) <br>\n",
    "num3 = int(input('Digite um número: ')) <br>\n",
    "media = num1+num2+num3/3 <br>\n",
    "print(f'A média é {media:.1f}')"
   ]
  },
  {
   "cell_type": "markdown",
   "id": "7a4785df-8a97-4d24-a4de-bbb4c8acbc29",
   "metadata": {},
   "source": [
    "14. Faça um programa que leia o peso e a altura de uma pessoa e exiba o índice de massa corporal (IMC) dela. A fórmula para calcular o IMC é: IMC = peso/altura², com aproximação em 3 casas decimais."
   ]
  },
  {
   "cell_type": "markdown",
   "id": "558387ad-0ac1-4e6e-a971-bca58e4576d1",
   "metadata": {},
   "source": [
    "### Exercício 014\n",
    "\n",
    "peso = float(input('Qual é o seu peso em kg: ')) <br>\n",
    "altura = float(input('Qual é a sua altura em metros: ')) <br>\n",
    "imc = peso/(altura)**2 <br>\n",
    "print(f'Seu IMC é de: {imc:.3f}')"
   ]
  },
  {
   "cell_type": "markdown",
   "id": "8b250edd-ff6f-4161-a61e-edbaaa7f9598",
   "metadata": {},
   "source": [
    "15. Faça um programa que leia dois números inteiros do usuário e troque seus valores, ou seja, se o primeiro número for 5 e o segundo número for 7, o programa deve fazer com que o primeiro número seja igual a 7 e o segundo número seja igual a 5."
   ]
  },
  {
   "cell_type": "markdown",
   "id": "08fea1b4-d293-4cce-8c6b-ab832cf13985",
   "metadata": {},
   "source": [
    "### Exercício 015\n",
    "\n",
    "num1 = int(input(\"Digite o primeiro número: \")) <br>\n",
    "num2 = int(input(\"Digite o segundo número: \")) <brr>\n",
    "num1, num2 = num2, num1 <br>\n",
    "print(f\"O primeiro número agora é {num1} e o segundo número agora é {num2}\")"
   ]
  },
  {
   "cell_type": "markdown",
   "id": "0bf09ae2-d957-4f3d-9624-3fbf9fe2cd78",
   "metadata": {},
   "source": [
    "16. Escreva um programa Python que leia um número inteiro e verifique se ele é par ou ímpar."
   ]
  },
  {
   "cell_type": "markdown",
   "id": "6e05b2f4-f2aa-4205-a4d3-77ceffab8a17",
   "metadata": {},
   "source": [
    "### Exercício 016\n",
    "\n",
    "numero = int(input(\"Digite um número: \")) <br>\n",
    "print(\"Par\" if numero % 2 == 0 else \"Ímpar\")"
   ]
  },
  {
   "cell_type": "markdown",
   "id": "d7d5bb99-93a2-4081-80ca-63c1cc76eca4",
   "metadata": {},
   "source": [
    " Escreva um programa Python que leia um número e retorne seu quadrado, sua raíz quadrada e sua raíz cúbica, com aproximação em 2 casas decimais."
   ]
  },
  {
   "cell_type": "markdown",
   "id": "f5ca5647-d2f3-408f-9a44-357a9a888a8e",
   "metadata": {},
   "source": [
    "### Exercício 017 <br>\n",
    "\n",
    "numero = float(input(\"Digite um número: \")) <br>\n",
    "quadrado = numero ** 2 <br>\n",
    "raiz_quadrada = numero ** (1/2) <br>\n",
    "raiz_cubica = numero ** (1/3) <br>\n",
    "print(f\"Quadrado: {quadrado:.2f}\") <br>\n",
    "print(f\"Raiz Quadrada: {raiz_quadrada:.2f}\") <br>\n",
    "print(f\"Raiz Cúbica: {raiz_cubica:.2f}\")"
   ]
  },
  {
   "cell_type": "markdown",
   "id": "71d8f636-d7b4-40a6-b2aa-b61347c177c6",
   "metadata": {},
   "source": [
    "18. Escreva um programa Python que leia o valor de dois catetos e retorne o valor da hipotenusa, assumindo que seja possível formar um triângulo."
   ]
  },
  {
   "cell_type": "markdown",
   "id": "98f0e362-a8dc-413b-aade-e9f6dc40c625",
   "metadata": {},
   "source": [
    "### Exercício 018 \n",
    "\n",
    "cateto1 = float(input(\"Digite o valor do primeiro cateto: \")) <br>\n",
    "cateto2 = float(input(\"Digite o valor do segundo cateto: \")) <br> \n",
    "hipotenusa = (cateto1 ** 2 + cateto2 ** 2) ** 0.5 <br> \n",
    "print(\"Hipotenusa:\", hipotenusa)"
   ]
  }
 ],
 "metadata": {
  "kernelspec": {
   "display_name": "Python 3 (ipykernel)",
   "language": "python",
   "name": "python3"
  },
  "language_info": {
   "codemirror_mode": {
    "name": "ipython",
    "version": 3
   },
   "file_extension": ".py",
   "mimetype": "text/x-python",
   "name": "python",
   "nbconvert_exporter": "python",
   "pygments_lexer": "ipython3",
   "version": "3.11.4"
  }
 },
 "nbformat": 4,
 "nbformat_minor": 5
}
