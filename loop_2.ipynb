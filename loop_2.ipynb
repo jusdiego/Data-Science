{
 "cells": [
  {
   "cell_type": "code",
   "execution_count": 4,
   "id": "1323e11f-d69f-4d09-a4fe-2f02e1b05b5b",
   "metadata": {},
   "outputs": [
    {
     "name": "stdout",
     "output_type": "stream",
     "text": [
      "0.01\n",
      "0.042222222222222223\n",
      "0.07444444444444444\n",
      "0.10666666666666666\n",
      "0.1388888888888889\n",
      "0.1711111111111111\n",
      "0.20333333333333334\n",
      "0.23555555555555557\n",
      "0.2677777777777778\n",
      "0.3\n"
     ]
    }
   ],
   "source": [
    "import numpy as np\n",
    "\n",
    "# Linspace = Pegar varias numeros no intervlo escolhido (inicio, fim)\n",
    "\n",
    "for i in np.linspace(0.01, 0.3, 10):\n",
    "    print(i)"
   ]
  },
  {
   "cell_type": "code",
   "execution_count": 5,
   "id": "85784f3b-90bd-4940-a040-b45f26ff17c4",
   "metadata": {},
   "outputs": [
    {
     "name": "stdout",
     "output_type": "stream",
     "text": [
      "Andre\n",
      "Bruna\n",
      "Carlos\n"
     ]
    }
   ],
   "source": [
    "for i in ['Andre', 'Bruna', 'Carlos']:\n",
    "    print(i)\n",
    "    "
   ]
  },
  {
   "cell_type": "code",
   "execution_count": 6,
   "id": "99a827d4-06ba-4aa8-bb7f-2f18777e0661",
   "metadata": {},
   "outputs": [
    {
     "name": "stdout",
     "output_type": "stream",
     "text": [
      "11\n",
      "12\n",
      "13\n",
      "14\n"
     ]
    }
   ],
   "source": [
    "for i in [1, 2, 3, 4]:\n",
    "    nota = i + 10\n",
    "    print(nota)"
   ]
  },
  {
   "cell_type": "code",
   "execution_count": 14,
   "id": "9ca6082d-20ad-4b3e-9f86-6b410ad61aa4",
   "metadata": {},
   "outputs": [
    {
     "name": "stdout",
     "output_type": "stream",
     "text": [
      "11\n",
      "12\n",
      "13\n",
      "14\n"
     ]
    }
   ],
   "source": [
    "for i in [1, 2, 3, 4]:\n",
    "    nota = i + 10\n",
    "    print(nota)"
   ]
  },
  {
   "cell_type": "code",
   "execution_count": 17,
   "id": "f18cf9cb-0b70-4ace-b459-9390e6c7969f",
   "metadata": {},
   "outputs": [
    {
     "name": "stdout",
     "output_type": "stream",
     "text": [
      "1.0\n",
      "12.0\n",
      "23.0\n",
      "34.0\n",
      "45.0\n",
      "56.0\n",
      "67.0\n",
      "78.0\n",
      "89.0\n",
      "100.0\n"
     ]
    }
   ],
   "source": [
    "for i in np.linspace(1, 100, 10):\n",
    "    print(i)"
   ]
  },
  {
   "cell_type": "code",
   "execution_count": 19,
   "id": "d592be91-0c22-4a1f-adca-3563f61afd5f",
   "metadata": {},
   "outputs": [
    {
     "name": "stdout",
     "output_type": "stream",
     "text": [
      "0\n",
      "1\n",
      "4\n"
     ]
    }
   ],
   "source": [
    "for i in range(10):\n",
    "    resultado = i**2\n",
    "    if resultado == 9:\n",
    "        break\n",
    "    print(resultado)"
   ]
  },
  {
   "cell_type": "code",
   "execution_count": null,
   "id": "11f76a32-ba72-492f-9bc0-cd24cd9a4849",
   "metadata": {},
   "outputs": [],
   "source": [
    "encoder_list =[\n",
    "    ce.cat_boost.CatBoostEncoder,\n",
    "    ce.one_hot.OneHotEncoder,\n",
    "    ce.woe.WOEEncoder,\n",
    "]\n",
    "\n",
    "for encoder in encoder_list:\n",
    "\n",
    "    numeric_transfomer = PipeLine(\n",
    "        steps=[('imputer', SimpleImputer(strantegy='median'))]\n",
    "    )\n",
    "\n",
    "    categorical_transformer = PipeLine(steps=[('woe', encoder())])\n",
    "\n",
    "    prepocessor = ColumnTransformer(\n",
    "        transformes= [\n",
    "            ('num', numeric_transformer, numeric_features),\n",
    "            ('cat', categorical_transformer, categorical_features)\n",
    "        ]\n",
    "    )\n",
    "\n",
    "    pipe = PipeLine(\n",
    "        steps=[\n",
    "            ('preprocessor', prepocessor),\n",
    "            ('classifier', RandomForestClassifier(n_estimators=500)),\n",
    "        ]\n",
    "    )\n",
    "\n",
    "    model = pipe.fit(X_train, y_train.values.ravel())\n",
    "\n",
    "    y_pred = model.predict(X_test)\n",
    "    print(encoder)\n",
    "    print(roc_auc_score(y_test, model.predict_proba(X_test)[:, 1]))\n",
    "    print(f1_score(y_test, y_pred, average='macro'))"
   ]
  }
 ],
 "metadata": {
  "kernelspec": {
   "display_name": "Python 3 (ipykernel)",
   "language": "python",
   "name": "python3"
  },
  "language_info": {
   "codemirror_mode": {
    "name": "ipython",
    "version": 3
   },
   "file_extension": ".py",
   "mimetype": "text/x-python",
   "name": "python",
   "nbconvert_exporter": "python",
   "pygments_lexer": "ipython3",
   "version": "3.12.0"
  }
 },
 "nbformat": 4,
 "nbformat_minor": 5
}
