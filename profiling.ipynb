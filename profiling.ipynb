{
 "cells": [
  {
   "cell_type": "code",
   "execution_count": 3,
   "id": "ba7d59f8-c5b6-4575-9250-948f71fd1dd2",
   "metadata": {},
   "outputs": [],
   "source": [
    "import numpy as np"
   ]
  },
  {
   "cell_type": "code",
   "execution_count": 4,
   "id": "b6c95673-e62c-41e4-b955-83265908ba12",
   "metadata": {},
   "outputs": [
    {
     "name": "stdout",
     "output_type": "stream",
     "text": [
      "11.7 ms ± 672 µs per loop (mean ± std. dev. of 7 runs, 100 loops each)\n"
     ]
    }
   ],
   "source": [
    "# Obtendo o tempo de execução de uma função\n",
    "\n",
    "%timeit np.random.rand(1000000)"
   ]
  },
  {
   "cell_type": "code",
   "execution_count": 5,
   "id": "e1a55094-6bc7-46f9-b7c3-a03bde6d711b",
   "metadata": {},
   "outputs": [
    {
     "name": "stdout",
     "output_type": "stream",
     "text": [
      "11.6 ms ± 1.3 ms per loop (mean ± std. dev. of 5 runs, 10 loops each)\n"
     ]
    }
   ],
   "source": [
    "# Agora, quero calcular o tempo, mas quero rodar 5 vezes com 10 execuções \n",
    "\n",
    "%timeit -r5 -n10 np.random.rand(1_000_000)"
   ]
  },
  {
   "cell_type": "code",
   "execution_count": 7,
   "id": "82180a83-5327-4e91-8d89-905cb5c9d005",
   "metadata": {},
   "outputs": [
    {
     "name": "stdout",
     "output_type": "stream",
     "text": [
      "11.4 ms ± 1.43 ms per loop (mean ± std. dev. of 5 runs, 10 loops each)\n"
     ]
    }
   ],
   "source": [
    "# E por fim, vamos salvar o tempo numa lista, usando '-o'\n",
    "\n",
    "tempo = %timeit -r5 -n10 -o np.random.rand(1_000_000)"
   ]
  },
  {
   "cell_type": "code",
   "execution_count": 11,
   "id": "9b475034-d55f-4317-a3ea-6625d21a3f79",
   "metadata": {},
   "outputs": [
    {
     "data": {
      "text/plain": [
       "[0.014224149999790825,\n",
       " 0.010526660000323318,\n",
       " 0.01069030000071507,\n",
       " 0.010813690000213682,\n",
       " 0.010623350000241772]"
      ]
     },
     "execution_count": 11,
     "metadata": {},
     "output_type": "execute_result"
    }
   ],
   "source": [
    "# Vamos verificar como foram as execuções nessa lista salva\n",
    "\n",
    "tempo.timings"
   ]
  },
  {
   "cell_type": "code",
   "execution_count": 12,
   "id": "2460af18-070d-4ee3-bd84-0a746d41cff1",
   "metadata": {},
   "outputs": [
    {
     "data": {
      "text/plain": [
       "0.010526660000323318"
      ]
     },
     "execution_count": 12,
     "metadata": {},
     "output_type": "execute_result"
    }
   ],
   "source": [
    "# Verificar o menor tempo\n",
    "\n",
    "tempo.best"
   ]
  }
 ],
 "metadata": {
  "kernelspec": {
   "display_name": "Python 3 (ipykernel)",
   "language": "python",
   "name": "python3"
  },
  "language_info": {
   "codemirror_mode": {
    "name": "ipython",
    "version": 3
   },
   "file_extension": ".py",
   "mimetype": "text/x-python",
   "name": "python",
   "nbconvert_exporter": "python",
   "pygments_lexer": "ipython3",
   "version": "3.12.0"
  }
 },
 "nbformat": 4,
 "nbformat_minor": 5
}
