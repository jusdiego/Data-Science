{
 "cells": [
  {
   "cell_type": "markdown",
   "id": "a1502a32-f83e-4915-8cc5-a280ae1d7470",
   "metadata": {},
   "source": [
    "import pandas as pd\r\n",
    "\r\n",
    "# Exemplo de dados\r\n",
    "data = {'Marca': ['MarcaA', 'MarcaA', 'MarcaB', 'MarcaB', 'MarcaC', 'MarcaC'],\r\n",
    "        'Preço': [500, 600, 800, 750, 900, 950]}\r\n",
    "\r\n",
    "df = pd.DataFrame(data)\r\n",
    "\r\n",
    "# Calcular a média de preço para cada marca\r\n",
    "media_por_marca = df.groupby('Marca')['Preço'].mean()\r\n",
    "\r\n",
    "# Usar qcut para categorizar em intervalos\r\n",
    "categorias = pd.qcut(media_por_marca, q=[0, 0.33, 0.66, 1], labels=['Barato', 'Médio', 'Caro'])\r\n",
    "\r\n",
    "# Criar um DataFrame com as médias e categorias\r\n",
    "df_media_categorias = pd.DataFrame({'Média de Preço': media_por_marca, 'Categoria': categorias})\r\n",
    "\r\n",
    "# Juntar os DataFrames pela coluna 'Marca'\r\n",
    "df_classificado = pd.merge(df, df_media_categorias, left_on='Marca', right_index=True)\r\n",
    "\r\n",
    "print(df_classificado)\r\n"
   ]
  },
  {
   "cell_type": "code",
   "execution_count": 2,
   "id": "54e89280-b2f3-4961-b24c-9d17b07acac3",
   "metadata": {},
   "outputs": [],
   "source": [
    "import pandas as pd"
   ]
  },
  {
   "cell_type": "code",
   "execution_count": 3,
   "id": "5fe07699-1088-4fa7-b83f-3139b29a3c94",
   "metadata": {},
   "outputs": [],
   "source": [
    "# Exemplo de dados\n",
    "data = {'Marca': ['MarcaA', 'MarcaA', 'MarcaB', 'MarcaB', 'MarcaC', 'MarcaC'],\n",
    "        'Preço': [500, 600, 800, 750, 900, 950]}\n",
    "\n",
    "df = pd.DataFrame(data)"
   ]
  },
  {
   "cell_type": "code",
   "execution_count": 4,
   "id": "4583fa92-7188-412d-8e5f-bbd2b8a74efc",
   "metadata": {},
   "outputs": [],
   "source": [
    "# Calcular a média de preço para cada marca\n",
    "media_por_marca = df.groupby('Marca')['Preço'].mean()"
   ]
  },
  {
   "cell_type": "code",
   "execution_count": 5,
   "id": "4d6dc3a5-7426-422b-bdbf-0cb97bf831ba",
   "metadata": {},
   "outputs": [],
   "source": [
    "# Usar qcut para categorizar em intervalos\n",
    "categorias = pd.qcut(media_por_marca, q=[0, 0.33, 0.66, 1], labels=['Barato', 'Médio', 'Caro'])"
   ]
  },
  {
   "cell_type": "code",
   "execution_count": 6,
   "id": "5222ce92-8650-440d-ab07-41f4226eb007",
   "metadata": {},
   "outputs": [],
   "source": [
    "# Criar um DataFrame com as médias e categorias\n",
    "df_media_categorias = pd.DataFrame({'Média de Preço': media_por_marca, 'Categoria': categorias})"
   ]
  },
  {
   "cell_type": "code",
   "execution_count": 7,
   "id": "65a874aa-f9cf-4e59-8c5b-5f1b1e96efe8",
   "metadata": {},
   "outputs": [],
   "source": [
    "# Juntar os DataFrames pela coluna 'Marca'\n",
    "df_classificado = pd.merge(df, df_media_categorias, left_on='Marca', right_index=True)"
   ]
  },
  {
   "cell_type": "code",
   "execution_count": 8,
   "id": "88657eb0-9648-4ed5-9aa8-bf086485729f",
   "metadata": {},
   "outputs": [
    {
     "data": {
      "text/html": [
       "<div>\n",
       "<style scoped>\n",
       "    .dataframe tbody tr th:only-of-type {\n",
       "        vertical-align: middle;\n",
       "    }\n",
       "\n",
       "    .dataframe tbody tr th {\n",
       "        vertical-align: top;\n",
       "    }\n",
       "\n",
       "    .dataframe thead th {\n",
       "        text-align: right;\n",
       "    }\n",
       "</style>\n",
       "<table border=\"1\" class=\"dataframe\">\n",
       "  <thead>\n",
       "    <tr style=\"text-align: right;\">\n",
       "      <th></th>\n",
       "      <th>Marca</th>\n",
       "      <th>Preço</th>\n",
       "      <th>Média de Preço</th>\n",
       "      <th>Categoria</th>\n",
       "    </tr>\n",
       "  </thead>\n",
       "  <tbody>\n",
       "    <tr>\n",
       "      <th>0</th>\n",
       "      <td>MarcaA</td>\n",
       "      <td>500</td>\n",
       "      <td>550.0</td>\n",
       "      <td>Barato</td>\n",
       "    </tr>\n",
       "    <tr>\n",
       "      <th>1</th>\n",
       "      <td>MarcaA</td>\n",
       "      <td>600</td>\n",
       "      <td>550.0</td>\n",
       "      <td>Barato</td>\n",
       "    </tr>\n",
       "    <tr>\n",
       "      <th>2</th>\n",
       "      <td>MarcaB</td>\n",
       "      <td>800</td>\n",
       "      <td>775.0</td>\n",
       "      <td>Médio</td>\n",
       "    </tr>\n",
       "    <tr>\n",
       "      <th>3</th>\n",
       "      <td>MarcaB</td>\n",
       "      <td>750</td>\n",
       "      <td>775.0</td>\n",
       "      <td>Médio</td>\n",
       "    </tr>\n",
       "    <tr>\n",
       "      <th>4</th>\n",
       "      <td>MarcaC</td>\n",
       "      <td>900</td>\n",
       "      <td>925.0</td>\n",
       "      <td>Caro</td>\n",
       "    </tr>\n",
       "    <tr>\n",
       "      <th>5</th>\n",
       "      <td>MarcaC</td>\n",
       "      <td>950</td>\n",
       "      <td>925.0</td>\n",
       "      <td>Caro</td>\n",
       "    </tr>\n",
       "  </tbody>\n",
       "</table>\n",
       "</div>"
      ],
      "text/plain": [
       "    Marca  Preço  Média de Preço Categoria\n",
       "0  MarcaA    500           550.0    Barato\n",
       "1  MarcaA    600           550.0    Barato\n",
       "2  MarcaB    800           775.0     Médio\n",
       "3  MarcaB    750           775.0     Médio\n",
       "4  MarcaC    900           925.0      Caro\n",
       "5  MarcaC    950           925.0      Caro"
      ]
     },
     "execution_count": 8,
     "metadata": {},
     "output_type": "execute_result"
    }
   ],
   "source": [
    "df_classificado"
   ]
  }
 ],
 "metadata": {
  "kernelspec": {
   "display_name": "Python 3 (ipykernel)",
   "language": "python",
   "name": "python3"
  },
  "language_info": {
   "codemirror_mode": {
    "name": "ipython",
    "version": 3
   },
   "file_extension": ".py",
   "mimetype": "text/x-python",
   "name": "python",
   "nbconvert_exporter": "python",
   "pygments_lexer": "ipython3",
   "version": "3.12.0"
  }
 },
 "nbformat": 4,
 "nbformat_minor": 5
}
