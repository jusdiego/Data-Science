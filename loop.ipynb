{
 "cells": [
  {
   "cell_type": "code",
   "execution_count": 1,
   "id": "eca38a68-a464-454c-8cf6-4b52783e8843",
   "metadata": {},
   "outputs": [
    {
     "name": "stdout",
     "output_type": "stream",
     "text": [
      "Andre\n",
      "Bruna\n",
      "Carol\n",
      "Eduardo\n",
      "Marcia\n",
      "Pedro\n"
     ]
    }
   ],
   "source": [
    "students = ['Andre', 'Bruna', 'Carol', 'Eduardo', 'Marcia', 'Pedro']\n",
    "\n",
    "for student in students:\n",
    "    print(student)"
   ]
  },
  {
   "cell_type": "code",
   "execution_count": 3,
   "id": "b3a31e1a-ae25-498d-b3c3-786ded14cf24",
   "metadata": {},
   "outputs": [
    {
     "name": "stdout",
     "output_type": "stream",
     "text": [
      "A123_Andre\n",
      "A123_Bruna\n",
      "A123_Carol\n",
      "A123_Eduardo\n",
      "A123_Marcia\n",
      "A123_Pedro\n"
     ]
    }
   ],
   "source": [
    "for student in students:\n",
    "    student_id = 'A123_'+student\n",
    "    print(student_id)"
   ]
  },
  {
   "cell_type": "code",
   "execution_count": 8,
   "id": "e6d7af6b-47e4-4fdf-8474-47407f98e359",
   "metadata": {},
   "outputs": [
    {
     "name": "stdout",
     "output_type": "stream",
     "text": [
      "['A123_Andre', 'A123_Bruna', 'A123_Carol', 'A123_Eduardo', 'A123_Marcia', 'A123_Pedro']\n",
      "['Andre', 'Bruna', 'Carol', 'Eduardo', 'Marcia', 'Pedro']\n"
     ]
    }
   ],
   "source": [
    "ids = [] \n",
    "\n",
    "for student in students:\n",
    "    student_id = 'A123_'+student\n",
    "    ids.append(student_id)\n",
    "\n",
    "print(ids)\n",
    "print(students)"
   ]
  },
  {
   "cell_type": "code",
   "execution_count": 10,
   "id": "94c6156e-8c34-4e8c-b229-4fcbde3d95b3",
   "metadata": {},
   "outputs": [
    {
     "name": "stdout",
     "output_type": "stream",
     "text": [
      "Andre\n",
      "Bruna\n",
      "Carol\n",
      "Eduardo\n",
      "Marcia\n",
      "Pedro\n",
      "\n",
      "Pedro\n",
      "Marcia\n",
      "Eduardo\n",
      "Carol\n",
      "Bruna\n",
      "Andre\n"
     ]
    }
   ],
   "source": [
    "for x in sorted(students):\n",
    "    print(x)\n",
    "print()\n",
    "for y in reversed(students):\n",
    "    print(y)"
   ]
  },
  {
   "cell_type": "code",
   "execution_count": 11,
   "id": "f9eccf5b-57b7-4d2a-aca5-f6a8922dbca5",
   "metadata": {},
   "outputs": [
    {
     "data": {
      "text/plain": [
       "['A1_Andre', 'A1_Bruna', 'A1_Carol', 'A1_Eduardo', 'A2_Marcia', 'A2_Pedro']"
      ]
     },
     "execution_count": 11,
     "metadata": {},
     "output_type": "execute_result"
    }
   ],
   "source": [
    "ids = []\n",
    "\n",
    "for student in students:\n",
    "    if student[0] in ['A', 'B', 'C', 'D', 'E', 'F']:\n",
    "        student_id = 'A1_'+student\n",
    "    else:\n",
    "        student_id = 'A2_'+student\n",
    "    ids.append(student_id)\n",
    "\n",
    "ids"
   ]
  },
  {
   "cell_type": "code",
   "execution_count": 14,
   "id": "f87f860b-7205-4cb7-b9ce-8766361f4191",
   "metadata": {},
   "outputs": [
    {
     "name": "stdout",
     "output_type": "stream",
     "text": [
      "Tivemos 3 alunos reprovados | E 3 aprovados\n"
     ]
    }
   ],
   "source": [
    "notas = [95, 85, 50, 55, 79, 35]\n",
    "\n",
    "reprovados = 0\n",
    "aprovados = 0 \n",
    "\n",
    "for nota in notas:\n",
    "    if nota < 60:\n",
    "        reprovados += 1 \n",
    "    else:\n",
    "        aprovados += 1\n",
    "\n",
    "print(f'Tivemos {reprovados} alunos reprovados | E {aprovados} aprovados') "
   ]
  },
  {
   "cell_type": "code",
   "execution_count": 17,
   "id": "712d4407-cb2c-4aa8-be24-70fdf5a4f3ed",
   "metadata": {},
   "outputs": [
    {
     "data": {
      "text/html": [
       "<div>\n",
       "<style scoped>\n",
       "    .dataframe tbody tr th:only-of-type {\n",
       "        vertical-align: middle;\n",
       "    }\n",
       "\n",
       "    .dataframe tbody tr th {\n",
       "        vertical-align: top;\n",
       "    }\n",
       "\n",
       "    .dataframe thead th {\n",
       "        text-align: right;\n",
       "    }\n",
       "</style>\n",
       "<table border=\"1\" class=\"dataframe\">\n",
       "  <thead>\n",
       "    <tr style=\"text-align: right;\">\n",
       "      <th></th>\n",
       "      <th>Unnamed: 0</th>\n",
       "      <th>Age</th>\n",
       "      <th>Sex</th>\n",
       "      <th>Job</th>\n",
       "      <th>Housing</th>\n",
       "      <th>Saving accounts</th>\n",
       "      <th>Checking account</th>\n",
       "      <th>Credit amount</th>\n",
       "      <th>Duration</th>\n",
       "      <th>Purpose</th>\n",
       "      <th>Risk</th>\n",
       "    </tr>\n",
       "  </thead>\n",
       "  <tbody>\n",
       "    <tr>\n",
       "      <th>0</th>\n",
       "      <td>0</td>\n",
       "      <td>67</td>\n",
       "      <td>male</td>\n",
       "      <td>2</td>\n",
       "      <td>own</td>\n",
       "      <td>NaN</td>\n",
       "      <td>little</td>\n",
       "      <td>1169</td>\n",
       "      <td>6</td>\n",
       "      <td>radio/TV</td>\n",
       "      <td>good</td>\n",
       "    </tr>\n",
       "    <tr>\n",
       "      <th>1</th>\n",
       "      <td>1</td>\n",
       "      <td>22</td>\n",
       "      <td>female</td>\n",
       "      <td>2</td>\n",
       "      <td>own</td>\n",
       "      <td>little</td>\n",
       "      <td>moderate</td>\n",
       "      <td>5951</td>\n",
       "      <td>48</td>\n",
       "      <td>radio/TV</td>\n",
       "      <td>bad</td>\n",
       "    </tr>\n",
       "    <tr>\n",
       "      <th>2</th>\n",
       "      <td>2</td>\n",
       "      <td>49</td>\n",
       "      <td>male</td>\n",
       "      <td>1</td>\n",
       "      <td>own</td>\n",
       "      <td>little</td>\n",
       "      <td>NaN</td>\n",
       "      <td>2096</td>\n",
       "      <td>12</td>\n",
       "      <td>education</td>\n",
       "      <td>good</td>\n",
       "    </tr>\n",
       "    <tr>\n",
       "      <th>3</th>\n",
       "      <td>3</td>\n",
       "      <td>45</td>\n",
       "      <td>male</td>\n",
       "      <td>2</td>\n",
       "      <td>free</td>\n",
       "      <td>little</td>\n",
       "      <td>little</td>\n",
       "      <td>7882</td>\n",
       "      <td>42</td>\n",
       "      <td>furniture/equipment</td>\n",
       "      <td>good</td>\n",
       "    </tr>\n",
       "    <tr>\n",
       "      <th>4</th>\n",
       "      <td>4</td>\n",
       "      <td>53</td>\n",
       "      <td>male</td>\n",
       "      <td>2</td>\n",
       "      <td>free</td>\n",
       "      <td>little</td>\n",
       "      <td>little</td>\n",
       "      <td>4870</td>\n",
       "      <td>24</td>\n",
       "      <td>car</td>\n",
       "      <td>bad</td>\n",
       "    </tr>\n",
       "  </tbody>\n",
       "</table>\n",
       "</div>"
      ],
      "text/plain": [
       "   Unnamed: 0  Age     Sex  Job Housing Saving accounts Checking account  \\\n",
       "0           0   67    male    2     own             NaN           little   \n",
       "1           1   22  female    2     own          little         moderate   \n",
       "2           2   49    male    1     own          little              NaN   \n",
       "3           3   45    male    2    free          little           little   \n",
       "4           4   53    male    2    free          little           little   \n",
       "\n",
       "   Credit amount  Duration              Purpose  Risk  \n",
       "0           1169         6             radio/TV  good  \n",
       "1           5951        48             radio/TV   bad  \n",
       "2           2096        12            education  good  \n",
       "3           7882        42  furniture/equipment  good  \n",
       "4           4870        24                  car   bad  "
      ]
     },
     "execution_count": 17,
     "metadata": {},
     "output_type": "execute_result"
    }
   ],
   "source": [
    "import pandas as pd\n",
    "import numpy as np\n",
    "\n",
    "credit = pd.read_csv('german_credit_data.csv')\n",
    "credit.head()"
   ]
  },
  {
   "cell_type": "code",
   "execution_count": 27,
   "id": "eafd9af3-67af-4160-91b6-a70958cd5b41",
   "metadata": {},
   "outputs": [
    {
     "data": {
      "text/plain": [
       "[2, 2, 1, 3, 3, 2, 3, 2, 2, 2]"
      ]
     },
     "execution_count": 27,
     "metadata": {},
     "output_type": "execute_result"
    }
   ],
   "source": [
    "# Extraindo dados, verificando quantos empregos as pessoas que possuem um credito maior que 5000 tem.\n",
    "\n",
    "credito_alto = []\n",
    "\n",
    "for x in range(len(credit)):\n",
    "    if credit.loc[x, 'Credit amount'] >= 5000:\n",
    "        credito_alto.append(credit.loc[x, 'Job'])\n",
    "\n",
    "credito_alto[:10]"
   ]
  },
  {
   "cell_type": "code",
   "execution_count": 37,
   "id": "46358143-f911-45b4-b204-264c12390e92",
   "metadata": {},
   "outputs": [
    {
     "data": {
      "image/png": "[encoded data removed]",
      "text/plain": [
       "<Figure size 2000x1000 with 9 Axes>"
      ]
     },
     "metadata": {},
     "output_type": "display_data"
    }
   ],
   "source": [
    "# Trançando Gráficos\n",
    "\n",
    "import seaborn as sns\n",
    "import matplotlib.pyplot as plt\n",
    "from scipy import stats\n",
    "\n",
    "numerics = ['int16', 'int32', 'int64', 'float16', 'float32', 'float64']\n",
    "credit_numeric = credit.select_dtypes(include=numerics)\n",
    "\n",
    "fig, axs = plt.subplots(ncols=3, nrows=3, figsize=(20, 10))\n",
    "index = 0\n",
    "axs = axs.flatten()\n",
    "\n",
    "for k, v in credit_numeric.items():\n",
    "    sns.histplot(v, ax=axs[index])\n",
    "    index += 1"
   ]
  },
  {
   "cell_type": "code",
   "execution_count": 57,
   "id": "2762e7a7-3975-433d-aedd-28aedfbd58b2",
   "metadata": {},
   "outputs": [
    {
     "data": {
      "text/html": [
       "<div>\n",
       "<style scoped>\n",
       "    .dataframe tbody tr th:only-of-type {\n",
       "        vertical-align: middle;\n",
       "    }\n",
       "\n",
       "    .dataframe tbody tr th {\n",
       "        vertical-align: top;\n",
       "    }\n",
       "\n",
       "    .dataframe thead th {\n",
       "        text-align: right;\n",
       "    }\n",
       "</style>\n",
       "<table border=\"1\" class=\"dataframe\">\n",
       "  <thead>\n",
       "    <tr style=\"text-align: right;\">\n",
       "      <th></th>\n",
       "      <th>Unnamed: 0</th>\n",
       "      <th>Age</th>\n",
       "      <th>Sex</th>\n",
       "      <th>Job</th>\n",
       "      <th>Housing</th>\n",
       "      <th>Saving accounts</th>\n",
       "      <th>Checking account</th>\n",
       "      <th>Credit amount</th>\n",
       "      <th>Duration</th>\n",
       "      <th>Purpose</th>\n",
       "      <th>Risk</th>\n",
       "    </tr>\n",
       "  </thead>\n",
       "  <tbody>\n",
       "    <tr>\n",
       "      <th>4</th>\n",
       "      <td>4</td>\n",
       "      <td>53</td>\n",
       "      <td>male</td>\n",
       "      <td>2</td>\n",
       "      <td>free</td>\n",
       "      <td>little</td>\n",
       "      <td>little</td>\n",
       "      <td>4870</td>\n",
       "      <td>24</td>\n",
       "      <td>car</td>\n",
       "      <td>bad</td>\n",
       "    </tr>\n",
       "    <tr>\n",
       "      <th>12</th>\n",
       "      <td>12</td>\n",
       "      <td>22</td>\n",
       "      <td>female</td>\n",
       "      <td>2</td>\n",
       "      <td>own</td>\n",
       "      <td>little</td>\n",
       "      <td>moderate</td>\n",
       "      <td>1567</td>\n",
       "      <td>12</td>\n",
       "      <td>radio/TV</td>\n",
       "      <td>good</td>\n",
       "    </tr>\n",
       "    <tr>\n",
       "      <th>24</th>\n",
       "      <td>24</td>\n",
       "      <td>26</td>\n",
       "      <td>male</td>\n",
       "      <td>2</td>\n",
       "      <td>own</td>\n",
       "      <td>NaN</td>\n",
       "      <td>NaN</td>\n",
       "      <td>2069</td>\n",
       "      <td>10</td>\n",
       "      <td>furniture/equipment</td>\n",
       "      <td>good</td>\n",
       "    </tr>\n",
       "    <tr>\n",
       "      <th>29</th>\n",
       "      <td>29</td>\n",
       "      <td>63</td>\n",
       "      <td>male</td>\n",
       "      <td>2</td>\n",
       "      <td>own</td>\n",
       "      <td>little</td>\n",
       "      <td>little</td>\n",
       "      <td>6836</td>\n",
       "      <td>60</td>\n",
       "      <td>business</td>\n",
       "      <td>bad</td>\n",
       "    </tr>\n",
       "    <tr>\n",
       "      <th>36</th>\n",
       "      <td>36</td>\n",
       "      <td>31</td>\n",
       "      <td>male</td>\n",
       "      <td>2</td>\n",
       "      <td>free</td>\n",
       "      <td>little</td>\n",
       "      <td>NaN</td>\n",
       "      <td>6110</td>\n",
       "      <td>48</td>\n",
       "      <td>education</td>\n",
       "      <td>good</td>\n",
       "    </tr>\n",
       "    <tr>\n",
       "      <th>156</th>\n",
       "      <td>156</td>\n",
       "      <td>48</td>\n",
       "      <td>male</td>\n",
       "      <td>2</td>\n",
       "      <td>own</td>\n",
       "      <td>moderate</td>\n",
       "      <td>little</td>\n",
       "      <td>1288</td>\n",
       "      <td>9</td>\n",
       "      <td>repairs</td>\n",
       "      <td>good</td>\n",
       "    </tr>\n",
       "    <tr>\n",
       "      <th>207</th>\n",
       "      <td>207</td>\n",
       "      <td>26</td>\n",
       "      <td>male</td>\n",
       "      <td>2</td>\n",
       "      <td>own</td>\n",
       "      <td>little</td>\n",
       "      <td>moderate</td>\n",
       "      <td>1424</td>\n",
       "      <td>12</td>\n",
       "      <td>domestic appliances</td>\n",
       "      <td>good</td>\n",
       "    </tr>\n",
       "    <tr>\n",
       "      <th>442</th>\n",
       "      <td>442</td>\n",
       "      <td>29</td>\n",
       "      <td>male</td>\n",
       "      <td>2</td>\n",
       "      <td>own</td>\n",
       "      <td>little</td>\n",
       "      <td>moderate</td>\n",
       "      <td>2629</td>\n",
       "      <td>20</td>\n",
       "      <td>vacation/others</td>\n",
       "      <td>good</td>\n",
       "    </tr>\n",
       "  </tbody>\n",
       "</table>\n",
       "</div>"
      ],
      "text/plain": [
       "     Unnamed: 0  Age     Sex  Job Housing Saving accounts Checking account  \\\n",
       "4             4   53    male    2    free          little           little   \n",
       "12           12   22  female    2     own          little         moderate   \n",
       "24           24   26    male    2     own             NaN              NaN   \n",
       "29           29   63    male    2     own          little           little   \n",
       "36           36   31    male    2    free          little              NaN   \n",
       "156         156   48    male    2     own        moderate           little   \n",
       "207         207   26    male    2     own          little         moderate   \n",
       "442         442   29    male    2     own          little         moderate   \n",
       "\n",
       "     Credit amount  Duration              Purpose  Risk  \n",
       "4             4870        24                  car   bad  \n",
       "12            1567        12             radio/TV  good  \n",
       "24            2069        10  furniture/equipment  good  \n",
       "29            6836        60             business   bad  \n",
       "36            6110        48            education  good  \n",
       "156           1288         9              repairs  good  \n",
       "207           1424        12  domestic appliances  good  \n",
       "442           2629        20      vacation/others  good  "
      ]
     },
     "execution_count": 57,
     "metadata": {},
     "output_type": "execute_result"
    }
   ],
   "source": [
    "# Pegando um elemento de cada \n",
    "\n",
    "import pandas as pd\n",
    "\n",
    "credit = pd.read_csv('german_credit_data.csv')\n",
    "credit.head\n",
    "\n",
    "amostra = []\n",
    "\n",
    "for purpose in credit['Purpose'].unique():\n",
    "    amostra.append(credit[credit['Purpose']==purpose]['Unnamed: 0'].iloc[np.random.randint(11)])\n",
    "\n",
    "credit[credit['Unnamed: 0'].isin(amostra)]"
   ]
  },
  {
   "cell_type": "code",
   "execution_count": 74,
   "id": "fc993a26-26a9-468c-afcb-25edf44b7a9a",
   "metadata": {},
   "outputs": [
    {
     "name": "stdout",
     "output_type": "stream",
     "text": [
      "95\n",
      "85\n",
      "50\n",
      "55\n",
      "79\n",
      "35\n"
     ]
    }
   ],
   "source": [
    "# For e dicionarios\n",
    "\n",
    "notas_dic = {'Andre': 95, 'Bruna': 85, 'Carol': 50, 'Eduardo': 55, 'Marcela': 79, 'Pedro': 35}\n",
    "\n",
    "#pegar a chave\n",
    "for x, y in notas_dic.items():\n",
    "    print(y)"
   ]
  }
 ],
 "metadata": {
  "kernelspec": {
   "display_name": "Python 3 (ipykernel)",
   "language": "python",
   "name": "python3"
  },
  "language_info": {
   "codemirror_mode": {
    "name": "ipython",
    "version": 3
   },
   "file_extension": ".py",
   "mimetype": "text/x-python",
   "name": "python",
   "nbconvert_exporter": "python",
   "pygments_lexer": "ipython3",
   "version": "3.12.0"
  }
 },
 "nbformat": 4,
 "nbformat_minor": 5
}
