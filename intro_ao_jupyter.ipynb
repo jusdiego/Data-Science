{
 "cells": [
  {
   "cell_type": "code",
   "execution_count": 22,
   "id": "0a2293d9-4290-4820-aea8-83f5b715eea3",
   "metadata": {},
   "outputs": [],
   "source": [
    "#Carregando Bibliotecas\n",
    "\n",
    "import pandas as pd\n",
    "import matplotlib as plt\n",
    "\n",
    "#Truque para mostrar todos os outputs\n",
    "from IPython.core.interactiveshell import InteractiveShell\n",
    "InteractiveShell.ast_node_interactivity = \"all\""
   ]
  },
  {
   "cell_type": "code",
   "execution_count": 10,
   "id": "db9c0de0-d90a-45f6-8c89-f72336b891cd",
   "metadata": {},
   "outputs": [
    {
     "data": {
      "text/plain": [
       "30"
      ]
     },
     "execution_count": 10,
     "metadata": {},
     "output_type": "execute_result"
    }
   ],
   "source": [
    "x = 20\n",
    "y = 10\n",
    "\n",
    "x+y"
   ]
  },
  {
   "cell_type": "code",
   "execution_count": 11,
   "id": "81009526-47f1-465d-9050-7ca931fe678c",
   "metadata": {},
   "outputs": [
    {
     "data": {
      "text/plain": [
       "200"
      ]
     },
     "execution_count": 11,
     "metadata": {},
     "output_type": "execute_result"
    }
   ],
   "source": [
    "x*y"
   ]
  },
  {
   "cell_type": "code",
   "execution_count": 24,
   "id": "46863f19-21d2-418f-b572-9e5f7dea2de9",
   "metadata": {},
   "outputs": [
    {
     "name": "stdout",
     "output_type": "stream",
     "text": [
      "InteractiveShell\t pd\t plt\t shell\t x\t y\t \n"
     ]
    }
   ],
   "source": [
    "# Listar todas as variáveis que ja foram utilizadas \n",
    "\n",
    "%who"
   ]
  },
  {
   "cell_type": "code",
   "execution_count": 28,
   "id": "8d529766-b03c-4ec6-aafb-17869736f542",
   "metadata": {},
   "outputs": [
    {
     "name": "stdout",
     "output_type": "stream",
     "text": [
      "x = 20\n",
      "y = 10\n",
      "x = 20\n",
      "y = 10\n",
      "\n",
      "x+y\n",
      "x = 20\n",
      "y = 10\n",
      "\n",
      "x+y\n",
      "x = 20\n",
      "y = 10\n",
      "\n",
      "x+y\n",
      "x = 20\n",
      "y = 10\n",
      "\n",
      "x+y\n",
      "x = 20\n",
      "y = 10\n",
      "\n",
      "x+y\n",
      "x = 20\n",
      "y = 10\n",
      "\n",
      "x+y\n",
      "x = 20\n",
      "y = 10\n",
      "\n",
      "x+y\n",
      "x = 20\n",
      "y = 10\n",
      "\n",
      "x+y\n",
      "x = 20\n",
      "y = 10\n",
      "\n",
      "x+y\n",
      "x*y\n",
      "import pandas as pd\n",
      "iris = pd.read_csv('iris.csv')\n",
      "import pandas as pd\n",
      "iris = pd.read_csv('iris.csv')\n",
      "#Carregando Bibliotecas\n",
      "\n",
      "import pandas as pd\n",
      "import matplotlib as plt\n",
      "\n",
      "from IPython.core.interactivesshell import InteractiveShell\n",
      "InteractiveShell.ast_node_interactivity = \"all\"\n",
      "#Carregando Bibliotecas\n",
      "\n",
      "import pandas as pd\n",
      "import matplotlib as plt\n",
      "\n",
      "from IPython.core.interactiveshell import InteractiveShell\n",
      "InteractiveShell.ast_node_interactivity = \"all\"\n",
      "%who\n",
      "# Listar todas as variáveis que ja foram utilizadas \n",
      "\n",
      "%who\n",
      "#Carregando Bibliotecas\n",
      "\n",
      "import pandas as pd\n",
      "import matplotlib as plt\n",
      "\n",
      "#Truque para mostrar todos os outputs\n",
      "from IPython.core.interactiveshell import InteractiveShell\n",
      "InteractiveShell.ast_node_interactivity = \"all\"\n",
      "# Listar todas as variáveis que ja foram utilizadas \n",
      "\n",
      "%who\n",
      "#Carregando Bibliotecas\n",
      "\n",
      "import pandas as pd\n",
      "import matplotlib as plt\n",
      "\n",
      "#Truque para mostrar todos os outputs\n",
      "from IPython.core.interactiveshell import InteractiveShell as shell\n",
      "InteractiveShell.ast_node_interactivity = \"all\"\n",
      "# Listar todas as variáveis que ja foram utilizadas \n",
      "\n",
      "%who\n",
      "#Carregando Bibliotecas\n",
      "\n",
      "import pandas as pd\n",
      "import matplotlib as plt\n",
      "\n",
      "#Truque para mostrar todos os outputs\n",
      "from IPython.core.interactiveshell import InteractiveShell\n",
      "InteractiveShell.ast_node_interactivity = \"all\"\n",
      "# Listar todas as variáveis que ja foram utilizadas \n",
      "\n",
      "%who\n",
      "# Listar todas as variáveis que ja foram utilizadas \n",
      "\n",
      "%who\n",
      "# Mostrar os comandos que já foram rodados\n",
      "\n",
      "%history\n",
      "#<img src=>\n",
      "# Mostrar os comandos que já foram rodados\n",
      "\n",
      "%history\n",
      "# Mostrar os comandos que já foram rodados\n",
      "\n",
      "%history\n"
     ]
    }
   ],
   "source": [
    "# Mostrar os comandos que já foram rodados\n",
    "\n",
    "%history"
   ]
  },
  {
   "cell_type": "markdown",
   "id": "cd824f10-a0dd-4d52-b563-3e89a08a123f",
   "metadata": {},
   "source": [
    "<img src= 'jupyter.png'>"
   ]
  }
 ],
 "metadata": {
  "kernelspec": {
   "display_name": "Python 3 (ipykernel)",
   "language": "python",
   "name": "python3"
  },
  "language_info": {
   "codemirror_mode": {
    "name": "ipython",
    "version": 3
   },
   "file_extension": ".py",
   "mimetype": "text/x-python",
   "name": "python",
   "nbconvert_exporter": "python",
   "pygments_lexer": "ipython3",
   "version": "3.12.0"
  }
 },
 "nbformat": 4,
 "nbformat_minor": 5
}
